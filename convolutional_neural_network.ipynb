{
 "cells": [
  {
   "cell_type": "code",
   "execution_count": 16,
   "metadata": {},
   "outputs": [],
   "source": [
    "import torch\n",
    "import torch.nn as nn\n",
    "import torchvision\n",
    "import torchvision.transforms as transforms"
   ]
  },
  {
   "cell_type": "code",
   "execution_count": 17,
   "metadata": {},
   "outputs": [],
   "source": [
    "device = torch.device('cuda:0' if torch.cuda.is_available() else 'cpu')\n",
    "# hyperparameters\n",
    "num_epochs= 5\n",
    "num_classes = 10\n",
    "batch_size = 100\n",
    "learning_rate = 0.001"
   ]
  },
  {
   "cell_type": "code",
   "execution_count": 18,
   "metadata": {},
   "outputs": [],
   "source": [
    "# MNIST Dataset\n",
    "train_dataset = torchvision.datasets.MNIST(root='../../data/',\n",
    "                                           train= True,\n",
    "                                           transform= transforms.ToTensor(),\n",
    "                                           download=True)\n",
    "test_dataset = torchvision.datasets.MNIST(root='../../data/',\n",
    "                                          train= False,\n",
    "                                          transform= transforms.ToTensor())"
   ]
  },
  {
   "cell_type": "code",
   "execution_count": 19,
   "metadata": {},
   "outputs": [],
   "source": [
    "# Data loader\n",
    "train_loader = torch.utils.data.DataLoader(dataset= train_dataset,\n",
    "                                           batch_size= batch_size,\n",
    "                                           shuffle= True)\n",
    "test_loader = torch.utils.data.DataLoader(dataset= test_dataset,\n",
    "                                          batch_size= batch_size,\n",
    "                                          shuffle= False)"
   ]
  },
  {
   "cell_type": "code",
   "execution_count": 20,
   "metadata": {},
   "outputs": [],
   "source": [
    "class ConvNet(nn.Module):\n",
    "    def __init__(self, num_classes=10):\n",
    "        super(ConvNet, self).__init__()\n",
    "        self.layer1 = nn.Sequential(\n",
    "            nn.Conv2d(1, 16, kernel_size=5, stride=1, padding=2),\n",
    "            nn.BatchNorm2d(16),\n",
    "            nn.ReLU(),\n",
    "            nn.MaxPool2d(kernel_size=2, stride=2))\n",
    "        self.layer2 = nn.Sequential(\n",
    "            nn.Conv2d(16, 32, kernel_size=5, stride=1, padding=2),\n",
    "            nn.BatchNorm2d(32),\n",
    "            nn.ReLU(),\n",
    "            nn.MaxPool2d(kernel_size=2, stride=2))\n",
    "        self.fc = nn.Linear(7*7*32, num_classes)\n",
    "        \n",
    "    def forward(self, x):\n",
    "        out = self.layer1(x)\n",
    "        out = self.layer2(out)\n",
    "        out = out.reshape(out.size(0), -1)\n",
    "        out = self.fc(out)\n",
    "        return out"
   ]
  },
  {
   "cell_type": "code",
   "execution_count": 21,
   "metadata": {},
   "outputs": [],
   "source": [
    "model = ConvNet(num_classes).to(device)\n",
    "criterion = nn.CrossEntropyLoss()\n",
    "optimizer = torch.optim.Adam(model.parameters(), lr= learning_rate)"
   ]
  },
  {
   "cell_type": "code",
   "execution_count": 24,
   "metadata": {},
   "outputs": [
    {
     "name": "stdout",
     "output_type": "stream",
     "text": [
      "Epoch [1/5], Step [100/600], Loss: 0.0641\n",
      "Epoch [1/5], Step [200/600], Loss: 0.0625\n",
      "Epoch [1/5], Step [300/600], Loss: 0.0767\n",
      "Epoch [1/5], Step [400/600], Loss: 0.0819\n",
      "Epoch [1/5], Step [500/600], Loss: 0.0311\n",
      "Epoch [1/5], Step [600/600], Loss: 0.0403\n",
      "Epoch [2/5], Step [100/600], Loss: 0.0087\n",
      "Epoch [2/5], Step [200/600], Loss: 0.0891\n",
      "Epoch [2/5], Step [300/600], Loss: 0.0069\n",
      "Epoch [2/5], Step [400/600], Loss: 0.1965\n",
      "Epoch [2/5], Step [500/600], Loss: 0.0370\n",
      "Epoch [2/5], Step [600/600], Loss: 0.0813\n",
      "Epoch [3/5], Step [100/600], Loss: 0.0189\n",
      "Epoch [3/5], Step [200/600], Loss: 0.1063\n",
      "Epoch [3/5], Step [300/600], Loss: 0.0330\n",
      "Epoch [3/5], Step [400/600], Loss: 0.0589\n",
      "Epoch [3/5], Step [500/600], Loss: 0.0138\n",
      "Epoch [3/5], Step [600/600], Loss: 0.0332\n",
      "Epoch [4/5], Step [100/600], Loss: 0.0634\n",
      "Epoch [4/5], Step [200/600], Loss: 0.0101\n",
      "Epoch [4/5], Step [300/600], Loss: 0.0187\n",
      "Epoch [4/5], Step [400/600], Loss: 0.0133\n",
      "Epoch [4/5], Step [500/600], Loss: 0.0190\n",
      "Epoch [4/5], Step [600/600], Loss: 0.0068\n",
      "Epoch [5/5], Step [100/600], Loss: 0.0279\n",
      "Epoch [5/5], Step [200/600], Loss: 0.0096\n",
      "Epoch [5/5], Step [300/600], Loss: 0.0290\n",
      "Epoch [5/5], Step [400/600], Loss: 0.0006\n",
      "Epoch [5/5], Step [500/600], Loss: 0.0428\n",
      "Epoch [5/5], Step [600/600], Loss: 0.0016\n"
     ]
    }
   ],
   "source": [
    "total_step = len(train_loader)\n",
    "for epoch in range(num_epochs):\n",
    "    for i, (images, labels) in enumerate(train_loader):\n",
    "        images = images.to(device)\n",
    "        labels= labels.to(device)\n",
    "        # forward pass\n",
    "        outputs = model(images)\n",
    "        loss = criterion(outputs, labels)\n",
    "        # backward and optimize\n",
    "        optimizer.zero_grad()\n",
    "        loss.backward()\n",
    "        optimizer.step()\n",
    "        if (i+1) % 100 == 0:\n",
    "            print ('Epoch [{}/{}], Step [{}/{}], Loss: {:.4f}' \n",
    "                   .format(epoch+1, num_epochs, i+1, total_step, loss.item()))"
   ]
  },
  {
   "cell_type": "code",
   "execution_count": 25,
   "metadata": {},
   "outputs": [
    {
     "name": "stdout",
     "output_type": "stream",
     "text": [
      "Test Accuracy of the model on the 10000 test images: 98.87 %\n"
     ]
    }
   ],
   "source": [
    "# test the model\n",
    "model.eval()\n",
    "with torch.no_grad():\n",
    "    correct = 0\n",
    "    total = 0\n",
    "    for images, labels in test_loader:\n",
    "        images= images.to(device)\n",
    "        labels = labels.to(device)\n",
    "        outputs = model(images)\n",
    "        _, predicted = torch.max(outputs.data,1)\n",
    "        total += labels.size(0)\n",
    "        correct += (predicted == labels).sum().item()\n",
    "    print('Test Accuracy of the model on the 10000 test images: {} %'.format(100 * correct / total)) \n",
    "\n",
    "    # Save the model checkpoint\n",
    "torch.save(model.state_dict(), 'model.ckpt')"
   ]
  },
  {
   "cell_type": "code",
   "execution_count": null,
   "metadata": {},
   "outputs": [],
   "source": []
  }
 ],
 "metadata": {
  "kernelspec": {
   "display_name": "base",
   "language": "python",
   "name": "python3"
  },
  "language_info": {
   "codemirror_mode": {
    "name": "ipython",
    "version": 3
   },
   "file_extension": ".py",
   "mimetype": "text/x-python",
   "name": "python",
   "nbconvert_exporter": "python",
   "pygments_lexer": "ipython3",
   "version": "3.10.9"
  }
 },
 "nbformat": 4,
 "nbformat_minor": 2
}
